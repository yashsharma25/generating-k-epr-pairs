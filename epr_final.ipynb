{
 "cells": [
  {
   "cell_type": "markdown",
   "id": "4c0d54e8-4050-4690-8255-85941051be1a",
   "metadata": {
    "tags": []
   },
   "source": [
    "## Imports"
   ]
  },
  {
   "cell_type": "code",
   "execution_count": 1,
   "id": "4b3f1a91-4082-4f03-95ed-ee50f22396c7",
   "metadata": {},
   "outputs": [],
   "source": [
    "import numpy as np\n",
    "import time\n",
    "\n",
    "# Importing standard Qiskit libraries\n",
    "import qiskit\n",
    "\n",
    "from qiskit import QuantumCircuit, transpile, Aer, IBMQ, assemble\n",
    "from qiskit.tools.jupyter import *\n",
    "from qiskit.visualization import *\n",
    "#from ibm_quantum_widgets import *\n",
    "from qiskit.providers.aer import QasmSimulator\n",
    "\n",
    "# Tomography functions\n",
    "from qiskit_experiments.framework import ParallelExperiment\n",
    "from qiskit_experiments.library import StateTomography\n",
    "\n",
    "# For simulation\n",
    "from qiskit.providers.aer import AerSimulator\n",
    "from qiskit.quantum_info import Statevector\n",
    "\n",
    "from qiskit import QuantumRegister, ClassicalRegister \n",
    "from numpy import pi\n",
    "\n",
    "from qiskit import execute\n",
    "from qiskit.providers.aer.library import save_statevector\n",
    "\n",
    "from qiskit.quantum_info import DensityMatrix\n",
    "from qiskit.quantum_info.states import partial_trace\n",
    "import math\n",
    "import pickle\n",
    "\n",
    "from scipy.linalg import lu\n",
    "from numpy import linalg as LA\n",
    "\n",
    "# Loading your IBM Quantum account(s)\n",
    "provider = IBMQ.load_account()"
   ]
  },
  {
   "cell_type": "markdown",
   "id": "fecf1fab-cb0b-416c-b195-e548f43c1e2d",
   "metadata": {
    "tags": []
   },
   "source": [
    "## Circuit creation"
   ]
  },
  {
   "cell_type": "code",
   "execution_count": 2,
   "id": "fc2c4d59-844d-4a88-86e8-d4be31b2e59f",
   "metadata": {},
   "outputs": [
    {
     "data": {
      "text/plain": [
       "<qiskit.circuit.instructionset.InstructionSet at 0x13805da80>"
      ]
     },
     "execution_count": 2,
     "metadata": {},
     "output_type": "execute_result"
    }
   ],
   "source": [
    "\n",
    "qreg_q = QuantumRegister(10, 'q')\n",
    "creg_c = ClassicalRegister(6, 'c')\n",
    "circuit = QuantumCircuit(qreg_q, creg_c)\n",
    "\n",
    "circuit.h(qreg_q[0])\n",
    "circuit.h(qreg_q[1])\n",
    "circuit.h(qreg_q[2])\n",
    "circuit.h(qreg_q[3])\n",
    "circuit.h(qreg_q[4])\n",
    "circuit.h(qreg_q[5])\n",
    "circuit.h(qreg_q[6])\n",
    "circuit.h(qreg_q[7])\n",
    "circuit.h(qreg_q[8])\n",
    "circuit.h(qreg_q[9])\n",
    "circuit.cz(qreg_q[0], qreg_q[9])\n",
    "circuit.cz(qreg_q[2], qreg_q[7])\n",
    "circuit.cz(qreg_q[1], qreg_q[2])\n",
    "circuit.cz(qreg_q[3], qreg_q[4])\n",
    "circuit.cz(qreg_q[1], qreg_q[6])\n",
    "\n",
    "circuit.cz(qreg_q[6], qreg_q[7])\n",
    "circuit.cz(qreg_q[0], qreg_q[1])\n",
    "circuit.cz(qreg_q[7], qreg_q[8])\n",
    "circuit.cz(qreg_q[3], qreg_q[8])\n",
    "circuit.cz(qreg_q[8], qreg_q[9])\n",
    "circuit.cz(qreg_q[2], qreg_q[3])\n",
    "circuit.h(qreg_q[7])\n",
    "circuit.cz(qreg_q[4], qreg_q[9])\n",
    "circuit.cz(qreg_q[4], qreg_q[5])\n",
    "circuit.h(qreg_q[8])\n",
    "circuit.cz(qreg_q[5], qreg_q[6])\n",
    "circuit.cz(qreg_q[0], qreg_q[5])\n",
    "circuit.h(qreg_q[6])\n",
    "circuit.h(qreg_q[5])\n",
    "\n",
    "#print(qiskit.quantum_info.Statevector.from_instruction(circuit))\n",
    "\n",
    "circuit.measure(qreg_q[4], creg_c[0])\n",
    "circuit.measure(qreg_q[5], creg_c[1])\n",
    "circuit.measure(qreg_q[6], creg_c[2])\n",
    "circuit.measure(qreg_q[7], creg_c[3])\n",
    "circuit.measure(qreg_q[8], creg_c[4])\n",
    "circuit.measure(qreg_q[9], creg_c[5])"
   ]
  },
  {
   "cell_type": "code",
   "execution_count": 3,
   "id": "2c69914e-b648-4004-aff4-6066bb6752e3",
   "metadata": {},
   "outputs": [
    {
     "data": {
      "image/png": "[encoded data removed]",
      "text/plain": [
       "<Figure size 1110x686.28 with 1 Axes>"
      ]
     },
     "execution_count": 3,
     "metadata": {},
     "output_type": "execute_result"
    }
   ],
   "source": [
    "circuit.draw('mpl')"
   ]
  },
  {
   "cell_type": "markdown",
   "id": "2f254993",
   "metadata": {},
   "source": [
    "## EPR 0,1 and 2,3"
   ]
  },
  {
   "cell_type": "code",
   "execution_count": null,
   "id": "232875ff",
   "metadata": {},
   "outputs": [],
   "source": [
    "qreg_q = QuantumRegister(10, 'q')\n",
    "creg_c = ClassicalRegister(6, 'c')\n",
    "circuit = QuantumCircuit(qreg_q, creg_c)\n",
    "\n",
    "circuit.h(qreg_q[0])\n",
    "circuit.h(qreg_q[1])\n",
    "circuit.h(qreg_q[2])\n",
    "circuit.h(qreg_q[3])\n",
    "circuit.h(qreg_q[4])\n",
    "circuit.h(qreg_q[5])\n",
    "circuit.h(qreg_q[6])\n",
    "circuit.h(qreg_q[7])\n",
    "circuit.h(qreg_q[8])\n",
    "circuit.h(qreg_q[9])\n",
    "circuit.cz(qreg_q[0], qreg_q[9])\n",
    "circuit.cz(qreg_q[2], qreg_q[7])\n",
    "circuit.cz(qreg_q[1], qreg_q[2])\n",
    "circuit.cz(qreg_q[3], qreg_q[4])\n",
    "circuit.cz(qreg_q[1], qreg_q[6])\n",
    "circuit.cz(qreg_q[6], qreg_q[7])\n",
    "circuit.cz(qreg_q[0], qreg_q[1])\n",
    "circuit.cz(qreg_q[7], qreg_q[8])\n",
    "circuit.cz(qreg_q[3], qreg_q[8])\n",
    "circuit.cz(qreg_q[8], qreg_q[9])\n",
    "circuit.cz(qreg_q[2], qreg_q[3])\n",
    "circuit.h(qreg_q[7])\n",
    "circuit.cz(qreg_q[4], qreg_q[9])\n",
    "circuit.cz(qreg_q[4], qreg_q[5])\n",
    "circuit.cz(qreg_q[5], qreg_q[6])\n",
    "\n",
    "circuit.cz(qreg_q[0], qreg_q[5])\n",
    "circuit.h(qreg_q[6])\n",
    "\n",
    "\n",
    "# circuit.measure(qreg_q[0], creg_c[0])\n",
    "# circuit.measure(qreg_q[1], creg_c[1])\n",
    "# circuit.measure(qreg_q[2], creg_c[2])\n",
    "# circuit.measure(qreg_q[3], creg_c[3])\n",
    "circuit.measure(qreg_q[4], creg_c[0])\n",
    "circuit.measure(qreg_q[5], creg_c[1])\n",
    "circuit.measure(qreg_q[6], creg_c[2])\n",
    "circuit.measure(qreg_q[7], creg_c[3])\n",
    "circuit.measure(qreg_q[8], creg_c[4])\n",
    "circuit.measure(qreg_q[9], creg_c[5])"
   ]
  },
  {
   "cell_type": "markdown",
   "id": "e8854d0b",
   "metadata": {},
   "source": [
    "## EPR 0,2 and 1,3"
   ]
  },
  {
   "cell_type": "code",
   "execution_count": null,
   "id": "9186e19f",
   "metadata": {},
   "outputs": [],
   "source": [
    "\n",
    "qreg_q = QuantumRegister(10, 'q')\n",
    "creg_c = ClassicalRegister(10, 'c')\n",
    "circuit = QuantumCircuit(qreg_q, creg_c)\n",
    "\n",
    "circuit.h(qreg_q[0])\n",
    "circuit.h(qreg_q[1])\n",
    "circuit.h(qreg_q[2])\n",
    "circuit.h(qreg_q[3])\n",
    "circuit.h(qreg_q[4])\n",
    "circuit.h(qreg_q[5])\n",
    "circuit.h(qreg_q[6])\n",
    "circuit.h(qreg_q[7])\n",
    "circuit.h(qreg_q[8])\n",
    "circuit.h(qreg_q[9])\n",
    "circuit.cz(qreg_q[0], qreg_q[9])\n",
    "circuit.cz(qreg_q[2], qreg_q[7])\n",
    "circuit.cz(qreg_q[1], qreg_q[2])\n",
    "circuit.cz(qreg_q[3], qreg_q[4])\n",
    "circuit.cz(qreg_q[1], qreg_q[6])\n",
    "circuit.cz(qreg_q[6], qreg_q[7])\n",
    "circuit.cz(qreg_q[0], qreg_q[1])\n",
    "circuit.cz(qreg_q[7], qreg_q[8])\n",
    "circuit.cz(qreg_q[3], qreg_q[8])\n",
    "circuit.cz(qreg_q[8], qreg_q[9])\n",
    "circuit.cz(qreg_q[2], qreg_q[3])\n",
    "circuit.h(qreg_q[7])\n",
    "circuit.cz(qreg_q[4], qreg_q[9])\n",
    "circuit.h(qreg_q[8])\n",
    "circuit.sdg(qreg_q[7])\n",
    "circuit.cz(qreg_q[4], qreg_q[5])\n",
    "circuit.h(qreg_q[9])\n",
    "circuit.h(qreg_q[7])\n",
    "circuit.sdg(qreg_q[9])\n",
    "circuit.cz(qreg_q[5], qreg_q[6])\n",
    "circuit.h(qreg_q[9])\n",
    "circuit.cz(qreg_q[0], qreg_q[5])\n",
    "circuit.h(qreg_q[6])\n",
    "circuit.sdg(qreg_q[6])\n",
    "circuit.h(qreg_q[6])\n",
    "\n",
    "\n",
    "circuit.measure(qreg_q[4], creg_c[0])\n",
    "circuit.measure(qreg_q[5], creg_c[1])\n",
    "circuit.measure(qreg_q[6], creg_c[2])\n",
    "circuit.measure(qreg_q[7], creg_c[3])\n",
    "circuit.measure(qreg_q[8], creg_c[4])\n",
    "circuit.measure(qreg_q[9], creg_c[5])"
   ]
  },
  {
   "cell_type": "markdown",
   "id": "9ce03fc4-0349-4903-931f-5b9c8a120bcd",
   "metadata": {
    "tags": []
   },
   "source": [
    "## Run on simulator"
   ]
  },
  {
   "cell_type": "code",
   "execution_count": 4,
   "id": "8dd24988-c9a7-4a9f-8719-a3f4ef0a4d69",
   "metadata": {},
   "outputs": [
    {
     "name": "stderr",
     "output_type": "stream",
     "text": [
      "/Users/yash/Library/Python/3.8/lib/python/site-packages/numpy/linalg/linalg.py:2154: RuntimeWarning: divide by zero encountered in det\n",
      "  r = _umath_linalg.det(a, signature=signature)\n",
      "/Users/yash/Library/Python/3.8/lib/python/site-packages/numpy/linalg/linalg.py:2154: RuntimeWarning: invalid value encountered in det\n",
      "  r = _umath_linalg.det(a, signature=signature)\n"
     ]
    }
   ],
   "source": [
    "num_shots = 6400\n",
    "backend = Aer.get_backend(\"aer_simulator\")\n",
    "circuit.save_statevector(label = '0-3-1-2', pershot = True)\n",
    "\n",
    "#result = backend.run(qc2, shots=10, memory=True).result()\n",
    "\n",
    "result = execute(circuit, backend = backend, shots = 6400,  memory=True).result()\n",
    "memory = result.get_memory(circuit)"
   ]
  },
  {
   "cell_type": "code",
   "execution_count": 5,
   "id": "cba8b611",
   "metadata": {},
   "outputs": [],
   "source": [
    "def run_on_simulator(circuit, label):\n",
    "    num_shots = 6400\n",
    "    backend = Aer.get_backend(\"aer_simulator\")\n",
    "    #circuit.save_statevector(label = '0-3-1-2', pershot = True)\n",
    "    circuit.save_statevector(label, pershot = True)\n",
    "\n",
    "    result = execute(circuit, backend = backend, shots = 6400,  memory=True).result()\n",
    "    memory = result.get_memory(circuit)"
   ]
  },
  {
   "cell_type": "markdown",
   "id": "d1e84e53-6e25-4c25-ba0e-cef8bb851e20",
   "metadata": {
    "tags": []
   },
   "source": [
    "# Check if statevector in simulator is product of EPR states"
   ]
  },
  {
   "cell_type": "code",
   "execution_count": 6,
   "id": "3240eb6e",
   "metadata": {},
   "outputs": [],
   "source": [
    "def trace_out(state_vec):\n",
    "    traced_over = list(range(0, 10))\n",
    "\n",
    "    traced_over.remove(0)\n",
    "    traced_over.remove(1)\n",
    "    traced_over.remove(2)\n",
    "    traced_over.remove(3)\n",
    "\n",
    "    rho = DensityMatrix(state_vec)\n",
    "    rho_0_1_2_3 = partial_trace(rho, traced_over)\n",
    "\n",
    "    traced_over = list(range(0, 4))\n",
    "    traced_over.remove(1)\n",
    "    traced_over.remove(2)\n",
    "\n",
    "    rho_1_2 = partial_trace(rho_0_1_2_3, traced_over)\n",
    "    \n",
    "    traced_over = list(range(0, 4))\n",
    "    traced_over.remove(0)\n",
    "    traced_over.remove(3)\n",
    "\n",
    "    rho_0_3 = partial_trace(rho_0_1_2_3, traced_over)\n",
    "\n",
    "    traced_over = list(range(0, 2))\n",
    "    traced_over.remove(1)\n",
    "    rho_0 = partial_trace(rho_0_3, traced_over)\n",
    "\n",
    "    traced_over = list(range(0, 2))\n",
    "    traced_over.remove(1)\n",
    "    rho_1 = partial_trace(rho_1_2, traced_over)\n",
    "    \n",
    "    if not math.isclose(rho_0.purity(), 1) and not math.isclose(rho_1.purity(), 1):\n",
    "        print(\"Bell pair generated\")\n",
    "        # print(rho_0.purity())\n",
    "        # print(rho_1.purity())\n",
    "        return True\n",
    "    "
   ]
  },
  {
   "cell_type": "code",
   "execution_count": 6,
   "id": "1344dc05",
   "metadata": {},
   "outputs": [],
   "source": [
    "def check_epr_pairs(circuit_label):\n",
    "    num_shots = 6400\n",
    "\n",
    "    indices = []\n",
    "    state_vecs = []\n",
    "    bell_pairs = 0\n",
    "    for i in range(num_shots):\n",
    "        #state_vec = result.data(0)['0-3-1-2'][i]\n",
    "        state_vec = result.data(0)[circuit_label][i]\n",
    "\n",
    "        state_vecs.append(state_vec)\n",
    "        \n",
    "        print(i)\n",
    "\n",
    "        is_bell_pair_generated = trace_out(state_vec)\n",
    "        if is_bell_pair_generated:\n",
    "            bell_pairs += 1\n",
    "        \n",
    "    print(\"Bell pairs = \", bell_pairs)\n",
    "check_epr_pairs()"
   ]
  },
  {
   "cell_type": "markdown",
   "id": "e2167fa9-745b-4680-b8b3-68e0f97439b6",
   "metadata": {
    "tags": []
   },
   "source": [
    "# Tomography for a category"
   ]
  },
  {
   "cell_type": "code",
   "execution_count": 7,
   "id": "6a323da0-c5b5-4273-b5b5-9d678992cdf1",
   "metadata": {},
   "outputs": [],
   "source": [
    "def save_to_file(results_map, file_name):\n",
    "  with open(file_name +'.pkl', 'wb') as handle:\n",
    "    pickle.dump(results_map, handle, protocol=pickle.HIGHEST_PROTOCOL)\n",
    "\n",
    "def read_from_file(file_name):\n",
    "  with open(file_name + '.pkl', 'rb') as handle:\n",
    "    results_map = pickle.load(handle)\n",
    "    print(\"This is good\")\n",
    "    return results_map\n",
    "\n",
    "def tomography(state):\n",
    "    qst_exp = StateTomography(state, measurement_qubits = [0,1,2,3])\n",
    "    qst_data = qst_exp.run(backend, seed_simulation=100).block_for_results()\n",
    "    return qst_data\n",
    "\n",
    "def categorical_tomography():\n",
    "    stats_by_category = {}\n",
    "    memory = result.get_memory(circuit)\n",
    "\n",
    "    finished = 0\n",
    "    for i in range(6400):\n",
    "        print(\"i = \", i)\n",
    "        category = memory[i]\n",
    "        category = category[::-1]\n",
    "\n",
    "        if stats_by_category.get(category) is None:\n",
    "            stats_by_category[category] = list()\n",
    "            reconstructed_state = tomography(result.data(0)['0-3-1-2'][i])\n",
    "            #get the category of this state\n",
    "            #remember the category is right to left\n",
    "            #Lets reverse it right here\n",
    "\n",
    "            stats_by_category[category].append(reconstructed_state)\n",
    "            print('Finished = ', finished)\n",
    "            finished += 1\n",
    "\n",
    "    #save to file\n",
    "    save_to_file(stats_by_category, 'tomography_stats')\n",
    "    return stats_by_category\n",
    "\n",
    "def post_selected_tomography():\n",
    "    finished_categories = [\"000101\", \"000110\", \"001001\", \"010011\", \"011000\", \"011001\", \"011101\", \"011110\",\"101001\", \"101010\"]\n",
    "    stats_by_category = {}\n",
    "    memory = result.get_memory(circuit)\n",
    "\n",
    "    finished = 0\n",
    "    #iterate over all 6400 shots\n",
    "    for i in range(6400):\n",
    "        print(\"i = \", i)\n",
    "        #get category of current shot\n",
    "        category = memory[i]\n",
    "        #qiskit endian-ness is right to left. 0th qubit is rightmost\n",
    "        category = category[::-1]\n",
    "\n",
    "        print('Category = ', category)\n",
    "\n",
    "        if category not in finished_categories and stats_by_category.get(category) is None:\n",
    "            stats_by_category[category] = list()\n",
    "\n",
    "            reconstructed_state = tomography(result.data(0)['0-3-1-2'][i])\n",
    "            stats_by_category[category].append(reconstructed_state)\n",
    "            print('Finished = ', finished)\n",
    "            finished += 1\n",
    "\n",
    "            #save to file\n",
    "\n",
    "            save_to_file(stats_by_category[category],  category + '_' +  str(i))\n",
    "\n",
    "    return stats_by_category"
   ]
  },
  {
   "cell_type": "code",
   "execution_count": 8,
   "id": "73f5131e",
   "metadata": {},
   "outputs": [
    {
     "name": "stdout",
     "output_type": "stream",
     "text": [
      "Finished =  14\n",
      "i =  19\n",
      "Category =  110010\n"
     ]
    }
   ],
   "source": [
    "post_selected_tomography()"
   ]
  },
  {
   "cell_type": "markdown",
   "id": "1def310d",
   "metadata": {},
   "source": [
    "## Get pure states from density matrix by decomposition"
   ]
  },
  {
   "cell_type": "code",
   "execution_count": 39,
   "id": "9e2c919e",
   "metadata": {},
   "outputs": [],
   "source": [
    "def lu_decomp_of_dm(stats, category):\n",
    "    stats_by_measurement_category = {}\n",
    "    columns = []\n",
    "    for s in stats[category]:\n",
    "        density_matrix = s.analysis_results(\"state\").value\n",
    "\n",
    "        p,l,u = lu(np.array(density_matrix))\n",
    "\n",
    "def eigen_decomp_of_dm(stats, category):\n",
    "    stats_by_measurement_category = {}\n",
    "    columns = []\n",
    "    for s in stats[category]:\n",
    "        density_matrix = s.analysis_results(\"state\").value\n",
    "        \n",
    "        val, vec = LA.eigh(np.array(density_matrix))\n",
    "        \n",
    "        max_prob_state_index = np.argmax(val)\n",
    "        pure_state = vec[:, max_prob_state_index]\n",
    "        \n",
    "        return pure_state\n",
    "\n",
    "   \n",
    "def category_stats(stats, category):\n",
    "    stats_by_measurement_category = {}\n",
    "    columns = []\n",
    "    for s in stats[category]:\n",
    "        measurement, state = s.analysis_results(\"state\").value.measure()\n",
    "\n",
    "        measurement = measurement[::-1]\n",
    "        if stats_by_measurement_category.get(measurement) is None:\n",
    "            stats_by_measurement_category[measurement] = 1\n",
    "\n",
    "            if measurement not in columns:\n",
    "                columns.append(measurement)\n",
    "\n",
    "        stats_by_measurement_category[measurement] += 1\n",
    "\n",
    "    columns = np.sort(columns)\n",
    "    return stats_by_measurement_category"
   ]
  },
  {
   "cell_type": "markdown",
   "id": "bb2fa568",
   "metadata": {},
   "source": [
    "## Check if state reconstucted from tomography is product of Bell pairs"
   ]
  },
  {
   "cell_type": "code",
   "execution_count": null,
   "id": "87ed32ac",
   "metadata": {},
   "outputs": [],
   "source": [
    "def trace_out_reconstructed_state(state_vec):\n",
    "\n",
    "    traced_over = list(range(0, 4))\n",
    "    traced_over.remove(1)\n",
    "    traced_over.remove(2)\n",
    "\n",
    "    rho_0_3 = partial_trace(DensityMatrix(reconstructed_state), traced_over)\n",
    "    \n",
    "    traced_over = list(range(0, 4))\n",
    "    traced_over.remove(0)\n",
    "    traced_over.remove(3)\n",
    "\n",
    "    rho_1_2 = partial_trace(DensityMatrix(reconstructed_state), traced_over)\n",
    "\n",
    "    traced_over = list(range(0, 2))\n",
    "    traced_over.remove(1)\n",
    "    rho_0 = partial_trace(rho_0_3, traced_over)\n",
    "\n",
    "    traced_over = list(range(0, 2))\n",
    "    traced_over.remove(1)\n",
    "    rho_1 = partial_trace(rho_1_2, traced_over)\n",
    "    \n",
    "    if not math.isclose(rho_0.purity(), 1) and not math.isclose(rho_1.purity(), 1):\n",
    "        print(\"Bell pair generated\")\n",
    "        # print(rho_0.purity())\n",
    "        # print(rho_1.purity())\n",
    "        return True\n",
    "\n",
    "stats = read_from_file('000000_tomography_stats')\n",
    "reconstructed_state = eigen_decomp_of_dm(stats, '000000')\n",
    "trace_out_reconstructed_state(trace_out_reconstructed_state)"
   ]
  }
 ],
 "metadata": {
  "kernelspec": {
   "display_name": "Python 3.8.9 64-bit",
   "language": "python",
   "name": "python3"
  },
  "language_info": {
   "codemirror_mode": {
    "name": "ipython",
    "version": 3
   },
   "file_extension": ".py",
   "mimetype": "text/x-python",
   "name": "python",
   "nbconvert_exporter": "python",
   "pygments_lexer": "ipython3",
   "version": "3.8.9"
  },
  "vscode": {
   "interpreter": {
    "hash": "31f2aee4e71d21fbe5cf8b01ff0e069b9275f58929596ceb00d14d90e3e16cd6"
   }
  },
  "widgets": {
   "application/vnd.jupyter.widget-state+json": {
    "state": {
     "034302f8304945718ae235c0a0e72605": {
      "model_module": "@jupyter-widgets/controls",
      "model_module_version": "1.5.0",
      "model_name": "DescriptionStyleModel",
      "state": {
       "description_width": ""
      }
     },
     "28ee60dbfc6a47e6b29cbab8049a2c50": {
      "model_module": "@jupyter-widgets/base",
      "model_module_version": "1.2.0",
      "model_name": "LayoutModel",
      "state": {
       "width": "70px"
      }
     },
     "29a437140b2048fa94a149777514dd96": {
      "model_module": "@jupyter-widgets/base",
      "model_module_version": "1.2.0",
      "model_name": "LayoutModel",
      "state": {
       "width": "145px"
      }
     },
     "317d3968ce3c4fc19dd723267cc6a3b6": {
      "model_module": "@jupyter-widgets/controls",
      "model_module_version": "1.5.0",
      "model_name": "DescriptionStyleModel",
      "state": {
       "description_width": ""
      }
     },
     "3183c9b6decc4690b1e3c50dfe168936": {
      "model_module": "@jupyter-widgets/controls",
      "model_module_version": "1.5.0",
      "model_name": "DescriptionStyleModel",
      "state": {
       "description_width": ""
      }
     },
     "31bf0759d10e453b9aef3a20cce23531": {
      "model_module": "@jupyter-widgets/base",
      "model_module_version": "1.2.0",
      "model_name": "LayoutModel",
      "state": {
       "margin": "0px 0px 0px 37px",
       "width": "600px"
      }
     },
     "369a9adf63b8473ca128705ef5835c98": {
      "model_module": "@jupyter-widgets/base",
      "model_module_version": "1.2.0",
      "model_name": "LayoutModel",
      "state": {}
     },
     "4c32140f43c341d68e6feb324345e88d": {
      "model_module": "@jupyter-widgets/controls",
      "model_module_version": "1.5.0",
      "model_name": "GridBoxModel",
      "state": {
       "children": [
        "IPY_MODEL_e2209d04d7ab4785be620de46a2ecfe2"
       ],
       "layout": "IPY_MODEL_5983b8a5c52b41fa8f07479941b672ca"
      }
     },
     "521744195e0443489262397bdb8ec3b2": {
      "model_module": "@jupyter-widgets/controls",
      "model_module_version": "1.5.0",
      "model_name": "DescriptionStyleModel",
      "state": {
       "description_width": ""
      }
     },
     "5983b8a5c52b41fa8f07479941b672ca": {
      "model_module": "@jupyter-widgets/base",
      "model_module_version": "1.2.0",
      "model_name": "LayoutModel",
      "state": {
       "grid_template_areas": "\n                                       \". . . . right \"\n                                        ",
       "grid_template_columns": "20% 20% 20% 20% 20%",
       "width": "100%"
      }
     },
     "5fa9703e9aae4ec2aa69162c921d09c6": {
      "model_module": "@jupyter-widgets/controls",
      "model_module_version": "1.5.0",
      "model_name": "DescriptionStyleModel",
      "state": {
       "description_width": ""
      }
     },
     "8037173c0dc94262a4061d1b23b95d82": {
      "model_module": "@jupyter-widgets/controls",
      "model_module_version": "1.5.0",
      "model_name": "DescriptionStyleModel",
      "state": {
       "description_width": ""
      }
     },
     "80812427c8ad4c6884f9eaa5bdd0f6ff": {
      "model_module": "@jupyter-widgets/controls",
      "model_module_version": "1.5.0",
      "model_name": "HTMLModel",
      "state": {
       "layout": "IPY_MODEL_369a9adf63b8473ca128705ef5835c98",
       "style": "IPY_MODEL_3183c9b6decc4690b1e3c50dfe168936",
       "value": "<h5>Message</h5>"
      }
     },
     "951ee2b036be41dc819142a514b0e4cf": {
      "model_module": "@jupyter-widgets/base",
      "model_module_version": "1.2.0",
      "model_name": "LayoutModel",
      "state": {
       "width": "95px"
      }
     },
     "9588248e354346d7aab6c2af63b5c5d2": {
      "model_module": "@jupyter-widgets/controls",
      "model_module_version": "1.5.0",
      "model_name": "HTMLModel",
      "state": {
       "layout": "IPY_MODEL_29a437140b2048fa94a149777514dd96",
       "style": "IPY_MODEL_034302f8304945718ae235c0a0e72605",
       "value": "<h5>Backend</h5>"
      }
     },
     "9cd660d1209143449303e15494829540": {
      "model_module": "@jupyter-widgets/controls",
      "model_module_version": "1.5.0",
      "model_name": "HTMLModel",
      "state": {
       "layout": "IPY_MODEL_dc1ad842f7c44b869239d6a70afbbe81",
       "style": "IPY_MODEL_8037173c0dc94262a4061d1b23b95d82",
       "value": "<h5>Job ID</h5>"
      }
     },
     "a0194ca3b7874f38b0789e3c3af88a9b": {
      "model_module": "@jupyter-widgets/controls",
      "model_module_version": "1.5.0",
      "model_name": "HTMLModel",
      "state": {
       "layout": "IPY_MODEL_951ee2b036be41dc819142a514b0e4cf",
       "style": "IPY_MODEL_317d3968ce3c4fc19dd723267cc6a3b6",
       "value": "<h5>Status</h5>"
      }
     },
     "ad6d25d34d17419baa7ff87dd9a27927": {
      "model_module": "@jupyter-widgets/base",
      "model_module_version": "1.2.0",
      "model_name": "LayoutModel",
      "state": {
       "margin": "0px 0px 10px 0px"
      }
     },
     "b3a66a848e054650ada34bf56c6c6814": {
      "model_module": "@jupyter-widgets/base",
      "model_module_version": "1.2.0",
      "model_name": "LayoutModel",
      "state": {
       "grid_area": "right",
       "padding": "0px 0px 0px 0px",
       "width": "70px"
      }
     },
     "d03c6b0b87b5434c9b5cb13adf73a57c": {
      "model_module": "@jupyter-widgets/controls",
      "model_module_version": "1.5.0",
      "model_name": "HTMLModel",
      "state": {
       "layout": "IPY_MODEL_28ee60dbfc6a47e6b29cbab8049a2c50",
       "style": "IPY_MODEL_5fa9703e9aae4ec2aa69162c921d09c6",
       "value": "<h5>Queue</h5>"
      }
     },
     "dc1ad842f7c44b869239d6a70afbbe81": {
      "model_module": "@jupyter-widgets/base",
      "model_module_version": "1.2.0",
      "model_name": "LayoutModel",
      "state": {
       "width": "190px"
      }
     },
     "de61c8a6cb2545e98e09b859af641959": {
      "model_module": "@jupyter-widgets/controls",
      "model_module_version": "1.5.0",
      "model_name": "ButtonStyleModel",
      "state": {}
     },
     "e0b3003ea49a4216a4eb74868b3f23ee": {
      "model_module": "@jupyter-widgets/controls",
      "model_module_version": "1.5.0",
      "model_name": "HBoxModel",
      "state": {
       "children": [
        "IPY_MODEL_9cd660d1209143449303e15494829540",
        "IPY_MODEL_9588248e354346d7aab6c2af63b5c5d2",
        "IPY_MODEL_a0194ca3b7874f38b0789e3c3af88a9b",
        "IPY_MODEL_d03c6b0b87b5434c9b5cb13adf73a57c",
        "IPY_MODEL_80812427c8ad4c6884f9eaa5bdd0f6ff"
       ],
       "layout": "IPY_MODEL_31bf0759d10e453b9aef3a20cce23531"
      }
     },
     "e2209d04d7ab4785be620de46a2ecfe2": {
      "model_module": "@jupyter-widgets/controls",
      "model_module_version": "1.5.0",
      "model_name": "ButtonModel",
      "state": {
       "button_style": "primary",
       "description": "Clear",
       "layout": "IPY_MODEL_b3a66a848e054650ada34bf56c6c6814",
       "style": "IPY_MODEL_de61c8a6cb2545e98e09b859af641959"
      }
     },
     "e5312dcfd47746a38e49fd36493bc6a3": {
      "model_module": "@jupyter-widgets/controls",
      "model_module_version": "1.5.0",
      "model_name": "HTMLModel",
      "state": {
       "layout": "IPY_MODEL_ad6d25d34d17419baa7ff87dd9a27927",
       "style": "IPY_MODEL_521744195e0443489262397bdb8ec3b2",
       "value": "<p style='font-family: IBM Plex Sans, Arial, Helvetica, sans-serif; font-size: 20px; font-weight: medium;'>Circuit Properties</p>"
      }
     }
    },
    "version_major": 2,
    "version_minor": 0
   }
  }
 },
 "nbformat": 4,
 "nbformat_minor": 5
}
