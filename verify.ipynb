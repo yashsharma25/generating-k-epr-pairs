{
 "cells": [
  {
   "cell_type": "markdown",
   "id": "4c0d54e8-4050-4690-8255-85941051be1a",
   "metadata": {
    "tags": []
   },
   "source": [
    "## Imports"
   ]
  },
  {
   "cell_type": "code",
   "execution_count": 3,
   "id": "4b3f1a91-4082-4f03-95ed-ee50f22396c7",
   "metadata": {},
   "outputs": [
    {
     "name": "stderr",
     "output_type": "stream",
     "text": [
      "<frozen importlib._bootstrap>:219: RuntimeWarning: scipy._lib.messagestream.MessageStream size changed, may indicate binary incompatibility. Expected 56 from C header, got 64 from PyObject\n"
     ]
    }
   ],
   "source": [
    "import numpy as np\n",
    "import time\n",
    "\n",
    "# Importing standard Qiskit libraries\n",
    "import qiskit\n",
    "\n",
    "from qiskit import QuantumCircuit, transpile, Aer, IBMQ, assemble\n",
    "from qiskit.tools.jupyter import *\n",
    "from qiskit.visualization import *\n",
    "#from ibm_quantum_widgets import *\n",
    "from qiskit.providers.aer import QasmSimulator\n",
    "\n",
    "# Tomography functions\n",
    "from qiskit_experiments.framework import ParallelExperiment\n",
    "from qiskit_experiments.library import StateTomography\n",
    "\n",
    "# For simulation\n",
    "from qiskit.providers.aer import AerSimulator\n",
    "from qiskit.quantum_info import Statevector\n",
    "\n",
    "from qiskit import QuantumRegister, ClassicalRegister \n",
    "from numpy import pi\n",
    "\n",
    "from qiskit import execute\n",
    "from qiskit.providers.aer.library import save_statevector\n",
    "\n",
    "from qiskit.quantum_info import DensityMatrix\n",
    "from qiskit.quantum_info.states import partial_trace\n",
    "import math\n",
    "import pickle\n",
    "\n",
    "from scipy.linalg import lu\n",
    "from numpy import linalg as LA\n",
    "\n",
    "# Loading your IBM Quantum account(s)\n",
    "provider = IBMQ.load_account()"
   ]
  },
  {
   "cell_type": "markdown",
   "id": "b9355a8c",
   "metadata": {},
   "source": [
    "## Circuit for EPR pairs 0,3 and 1,2"
   ]
  },
  {
   "cell_type": "code",
   "execution_count": 4,
   "id": "fc2c4d59-844d-4a88-86e8-d4be31b2e59f",
   "metadata": {},
   "outputs": [],
   "source": [
    "\n",
    "def circuit_0_3_1_2():\n",
    "    qreg_q = QuantumRegister(10, 'q')\n",
    "    creg_c = ClassicalRegister(6, 'c')\n",
    "    circuit = QuantumCircuit(qreg_q, creg_c)\n",
    "    \n",
    "    circuit.h(qreg_q[0])\n",
    "    circuit.h(qreg_q[1])\n",
    "    circuit.h(qreg_q[2])\n",
    "    circuit.h(qreg_q[3])\n",
    "    circuit.h(qreg_q[4])\n",
    "    circuit.h(qreg_q[5])\n",
    "    circuit.h(qreg_q[6])\n",
    "    circuit.h(qreg_q[7])\n",
    "    circuit.h(qreg_q[8])\n",
    "    circuit.h(qreg_q[9])\n",
    "    circuit.cz(qreg_q[0], qreg_q[9])\n",
    "    circuit.cz(qreg_q[2], qreg_q[7])\n",
    "    circuit.cz(qreg_q[1], qreg_q[2])\n",
    "    circuit.cz(qreg_q[3], qreg_q[4])\n",
    "    circuit.cz(qreg_q[1], qreg_q[6])\n",
    "\n",
    "    circuit.cz(qreg_q[6], qreg_q[7])\n",
    "    circuit.cz(qreg_q[0], qreg_q[1])\n",
    "    circuit.cz(qreg_q[7], qreg_q[8])\n",
    "    circuit.cz(qreg_q[3], qreg_q[8])\n",
    "    circuit.cz(qreg_q[8], qreg_q[9])\n",
    "    circuit.cz(qreg_q[2], qreg_q[3])\n",
    "    circuit.h(qreg_q[7])\n",
    "    circuit.cz(qreg_q[4], qreg_q[9])\n",
    "    circuit.cz(qreg_q[4], qreg_q[5])\n",
    "    circuit.h(qreg_q[8])\n",
    "    circuit.cz(qreg_q[5], qreg_q[6])\n",
    "    circuit.cz(qreg_q[0], qreg_q[5])\n",
    "    circuit.h(qreg_q[6])\n",
    "    circuit.h(qreg_q[5])\n",
    "\n",
    "    #print(qiskit.quantum_info.Statevector.from_instruction(circuit))\n",
    "\n",
    "    circuit.measure(qreg_q[4], creg_c[0])\n",
    "    circuit.measure(qreg_q[5], creg_c[1])\n",
    "    circuit.measure(qreg_q[6], creg_c[2])\n",
    "    circuit.measure(qreg_q[7], creg_c[3])\n",
    "    circuit.measure(qreg_q[8], creg_c[4])\n",
    "    circuit.measure(qreg_q[9], creg_c[5])\n",
    "\n",
    "    return circuit"
   ]
  },
  {
   "cell_type": "code",
   "execution_count": 5,
   "id": "2c69914e-b648-4004-aff4-6066bb6752e3",
   "metadata": {},
   "outputs": [
    {
     "data": {
      "image/png": "[encoded data removed]",
      "text/plain": [
       "<Figure size 1110x686.28 with 1 Axes>"
      ]
     },
     "execution_count": 5,
     "metadata": {},
     "output_type": "execute_result"
    }
   ],
   "source": [
    "circuit_0312 = circuit_0_3_1_2()\n",
    "circuit_0312.draw('mpl')"
   ]
  },
  {
   "cell_type": "markdown",
   "id": "2f254993",
   "metadata": {},
   "source": [
    "## Circuit for EPR pairs 0,1 and 2,3"
   ]
  },
  {
   "cell_type": "code",
   "execution_count": 6,
   "id": "232875ff",
   "metadata": {},
   "outputs": [],
   "source": [
    "\n",
    "def circuit_0_1_2_3():\n",
    "    qreg_q = QuantumRegister(10, 'q')\n",
    "    creg_c = ClassicalRegister(6, 'c')\n",
    "    circuit = QuantumCircuit(qreg_q, creg_c)\n",
    "\n",
    "    circuit.h(qreg_q[0])\n",
    "    circuit.h(qreg_q[1])\n",
    "    circuit.h(qreg_q[2])\n",
    "    circuit.h(qreg_q[3])\n",
    "    circuit.h(qreg_q[4])\n",
    "    circuit.h(qreg_q[5])\n",
    "    circuit.h(qreg_q[6])\n",
    "    circuit.h(qreg_q[7])\n",
    "    circuit.h(qreg_q[8])\n",
    "    circuit.h(qreg_q[9])\n",
    "    circuit.cz(qreg_q[0], qreg_q[9])\n",
    "    circuit.cz(qreg_q[2], qreg_q[7])\n",
    "    circuit.cz(qreg_q[1], qreg_q[2])\n",
    "    circuit.cz(qreg_q[3], qreg_q[4])\n",
    "    circuit.cz(qreg_q[1], qreg_q[6])\n",
    "    circuit.cz(qreg_q[6], qreg_q[7])\n",
    "    circuit.cz(qreg_q[0], qreg_q[1])\n",
    "    circuit.cz(qreg_q[7], qreg_q[8])\n",
    "    circuit.cz(qreg_q[3], qreg_q[8])\n",
    "    circuit.cz(qreg_q[8], qreg_q[9])\n",
    "    circuit.cz(qreg_q[2], qreg_q[3])\n",
    "    circuit.h(qreg_q[7])\n",
    "    circuit.cz(qreg_q[4], qreg_q[9])\n",
    "    circuit.cz(qreg_q[4], qreg_q[5])\n",
    "    circuit.cz(qreg_q[5], qreg_q[6])\n",
    "\n",
    "    circuit.cz(qreg_q[0], qreg_q[5])\n",
    "    circuit.h(qreg_q[6])\n",
    "\n",
    "\n",
    "    # circuit.measure(qreg_q[0], creg_c[0])\n",
    "    # circuit.measure(qreg_q[1], creg_c[1])\n",
    "    # circuit.measure(qreg_q[2], creg_c[2])\n",
    "    # circuit.measure(qreg_q[3], creg_c[3])\n",
    "    circuit.measure(qreg_q[4], creg_c[0])\n",
    "    circuit.measure(qreg_q[5], creg_c[1])\n",
    "    circuit.measure(qreg_q[6], creg_c[2])\n",
    "    circuit.measure(qreg_q[7], creg_c[3])\n",
    "    circuit.measure(qreg_q[8], creg_c[4])\n",
    "    circuit.measure(qreg_q[9], creg_c[5])\n",
    "\n",
    "    return circuit"
   ]
  },
  {
   "cell_type": "code",
   "execution_count": 7,
   "id": "c14454c8",
   "metadata": {},
   "outputs": [
    {
     "data": {
      "image/png": "[encoded data removed]",
      "text/plain": [
       "<Figure size 1110x686.28 with 1 Axes>"
      ]
     },
     "execution_count": 7,
     "metadata": {},
     "output_type": "execute_result"
    }
   ],
   "source": [
    "circuit_0123 = circuit_0_1_2_3()\n",
    "circuit_0123.draw('mpl')"
   ]
  },
  {
   "cell_type": "markdown",
   "id": "e8854d0b",
   "metadata": {},
   "source": [
    "## Circuit for EPR pairs 0,2 and 1,3"
   ]
  },
  {
   "cell_type": "code",
   "execution_count": 8,
   "id": "9186e19f",
   "metadata": {},
   "outputs": [],
   "source": [
    "def circuit_0_2_1_3():\n",
    "    qreg_q = QuantumRegister(10, 'q')\n",
    "    creg_c = ClassicalRegister(6, 'c')\n",
    "    circuit = QuantumCircuit(qreg_q, creg_c)\n",
    "\n",
    "    circuit.h(qreg_q[0])\n",
    "    circuit.h(qreg_q[1])\n",
    "    circuit.h(qreg_q[2])\n",
    "    circuit.h(qreg_q[3])\n",
    "    circuit.h(qreg_q[4])\n",
    "    circuit.h(qreg_q[5])\n",
    "    circuit.h(qreg_q[6])\n",
    "    circuit.h(qreg_q[7])\n",
    "    circuit.h(qreg_q[8])\n",
    "    circuit.h(qreg_q[9])\n",
    "    circuit.cz(qreg_q[0], qreg_q[9])\n",
    "    circuit.cz(qreg_q[2], qreg_q[7])\n",
    "    circuit.cz(qreg_q[1], qreg_q[2])\n",
    "    circuit.cz(qreg_q[3], qreg_q[4])\n",
    "    circuit.cz(qreg_q[1], qreg_q[6])\n",
    "    circuit.cz(qreg_q[6], qreg_q[7])\n",
    "    circuit.cz(qreg_q[0], qreg_q[1])\n",
    "    circuit.cz(qreg_q[7], qreg_q[8])\n",
    "    circuit.cz(qreg_q[3], qreg_q[8])\n",
    "    circuit.cz(qreg_q[8], qreg_q[9])\n",
    "    circuit.cz(qreg_q[2], qreg_q[3])\n",
    "    circuit.h(qreg_q[7])\n",
    "    circuit.cz(qreg_q[4], qreg_q[9])\n",
    "    circuit.h(qreg_q[8])\n",
    "    circuit.sdg(qreg_q[7])\n",
    "    circuit.cz(qreg_q[4], qreg_q[5])\n",
    "    circuit.h(qreg_q[9])\n",
    "    circuit.h(qreg_q[7])\n",
    "    circuit.sdg(qreg_q[9])\n",
    "    circuit.cz(qreg_q[5], qreg_q[6])\n",
    "    circuit.h(qreg_q[9])\n",
    "    circuit.cz(qreg_q[0], qreg_q[5])\n",
    "    circuit.h(qreg_q[6])\n",
    "    circuit.sdg(qreg_q[6])\n",
    "    circuit.h(qreg_q[6])\n",
    "\n",
    "\n",
    "    circuit.measure(qreg_q[4], creg_c[0])\n",
    "    circuit.measure(qreg_q[5], creg_c[1])\n",
    "    circuit.measure(qreg_q[6], creg_c[2])\n",
    "    circuit.measure(qreg_q[7], creg_c[3])\n",
    "    circuit.measure(qreg_q[8], creg_c[4])\n",
    "    circuit.measure(qreg_q[9], creg_c[5])\n",
    "\n",
    "    return circuit"
   ]
  },
  {
   "cell_type": "code",
   "execution_count": 9,
   "id": "0eb69c41",
   "metadata": {},
   "outputs": [
    {
     "data": {
      "image/png": "[encoded data removed]",
      "text/plain": [
       "<Figure size 1290.6x686.28 with 1 Axes>"
      ]
     },
     "execution_count": 9,
     "metadata": {},
     "output_type": "execute_result"
    }
   ],
   "source": [
    "circuit_0213 = circuit_0_2_1_3()\n",
    "circuit_0213.draw('mpl')"
   ]
  },
  {
   "cell_type": "markdown",
   "id": "9ce03fc4-0349-4903-931f-5b9c8a120bcd",
   "metadata": {
    "tags": []
   },
   "source": [
    "## Run on simulator"
   ]
  },
  {
   "cell_type": "code",
   "execution_count": 10,
   "id": "cba8b611",
   "metadata": {},
   "outputs": [],
   "source": [
    "def run_on_simulator(circuit, label):\n",
    "    num_shots = 6400\n",
    "    backend = Aer.get_backend(\"aer_simulator\")\n",
    "    #circuit.save_statevector(label = '0-3-1-2', pershot = True)\n",
    "    circuit.save_statevector(label, pershot = True)\n",
    "\n",
    "    result = execute(circuit, backend = backend, shots = 6400,  memory=True).result()\n",
    "    memory = result.get_memory(circuit)\n",
    "    return result, memory"
   ]
  },
  {
   "cell_type": "code",
   "execution_count": 11,
   "id": "7e1aeccb",
   "metadata": {},
   "outputs": [],
   "source": [
    "result, memory = run_on_simulator(circuit_0213, '0-2-1-3')\n",
    "# result, memory = run_on_simulator(circuit_0312, '0-3-1-2')\n",
    "# result, memory = run_on_simulator(circuit_0123, '0-1-2-3')"
   ]
  },
  {
   "cell_type": "code",
   "execution_count": null,
   "id": "3f32285d",
   "metadata": {},
   "outputs": [],
   "source": [
    "print(memory)"
   ]
  },
  {
   "cell_type": "markdown",
   "id": "d1e84e53-6e25-4c25-ba0e-cef8bb851e20",
   "metadata": {
    "tags": []
   },
   "source": [
    "# Check if statevector in simulator is product of EPR states"
   ]
  },
  {
   "cell_type": "code",
   "execution_count": 13,
   "id": "3240eb6e",
   "metadata": {},
   "outputs": [],
   "source": [
    "def trace_out(state_vec):\n",
    "    traced_over = list(range(0, 10))\n",
    "\n",
    "    traced_over.remove(0)\n",
    "    traced_over.remove(1)\n",
    "    traced_over.remove(2)\n",
    "    traced_over.remove(3)\n",
    "\n",
    "    rho = DensityMatrix(state_vec)\n",
    "    rho_0_1_2_3 = partial_trace(rho, traced_over)\n",
    "\n",
    "    traced_over = list(range(0, 4))\n",
    "    traced_over.remove(1)\n",
    "    traced_over.remove(2)\n",
    "\n",
    "    rho_1_2 = partial_trace(rho_0_1_2_3, traced_over)\n",
    "    \n",
    "    traced_over = list(range(0, 4))\n",
    "    traced_over.remove(0)\n",
    "    traced_over.remove(3)\n",
    "\n",
    "    rho_0_3 = partial_trace(rho_0_1_2_3, traced_over)\n",
    "\n",
    "    traced_over = list(range(0, 2))\n",
    "    traced_over.remove(1)\n",
    "    rho_0 = partial_trace(rho_0_3, traced_over)\n",
    "\n",
    "    traced_over = list(range(0, 2))\n",
    "    traced_over.remove(1)\n",
    "    rho_1 = partial_trace(rho_1_2, traced_over)\n",
    "    \n",
    "    if not math.isclose(rho_0.purity(), 1) and not math.isclose(rho_1.purity(), 1):\n",
    "        print(\"Bell pair generated\")\n",
    "        # print(rho_0.purity())\n",
    "        # print(rho_1.purity())\n",
    "        return True\n",
    "    "
   ]
  },
  {
   "cell_type": "code",
   "execution_count": 15,
   "id": "1344dc05",
   "metadata": {},
   "outputs": [],
   "source": [
    "def check_epr_pairs(circuit_label):\n",
    "    num_shots = 6400\n",
    "\n",
    "    indices = []\n",
    "    state_vecs = []\n",
    "    bell_pairs = 0\n",
    "    for i in range(num_shots):\n",
    "        state_vec = result.data(0)[circuit_label][i]\n",
    "\n",
    "        state_vecs.append(state_vec)\n",
    "        \n",
    "        print(i)\n",
    "\n",
    "        is_bell_pair_generated = trace_out(state_vec)\n",
    "        if is_bell_pair_generated:\n",
    "            bell_pairs += 1\n",
    "        \n",
    "    print(\"Bell pairs = \", bell_pairs)"
   ]
  },
  {
   "cell_type": "code",
   "execution_count": null,
   "id": "e262a8d8",
   "metadata": {},
   "outputs": [],
   "source": [
    "check_epr_pairs('0-2-1-3')\n",
    "# check_epr_pairs('0-3-1-2')\n",
    "# check_epr_pairs('0-1-2-3')"
   ]
  },
  {
   "cell_type": "markdown",
   "id": "e2167fa9-745b-4680-b8b3-68e0f97439b6",
   "metadata": {
    "tags": []
   },
   "source": [
    "# Verify 2-pairability by Quantum State Tomography"
   ]
  },
  {
   "cell_type": "code",
   "execution_count": 17,
   "id": "6a323da0-c5b5-4273-b5b5-9d678992cdf1",
   "metadata": {},
   "outputs": [],
   "source": [
    "def save_to_file(results_map, file_name):\n",
    "  with open(file_name +'.pkl', 'wb') as handle:\n",
    "    pickle.dump(results_map, handle, protocol=pickle.HIGHEST_PROTOCOL)\n",
    "\n",
    "def read_from_file(file_name):\n",
    "  with open(file_name + '.pkl', 'rb') as handle:\n",
    "    results_map = pickle.load(handle)\n",
    "    print(\"This is good\")\n",
    "    return results_map\n",
    "\n",
    "def tomography(state):\n",
    "    backend = Aer.get_backend(\"aer_simulator\")\n",
    "\n",
    "    qst_exp = StateTomography(state, measurement_qubits = [0,1,2,3])\n",
    "    qst_data = qst_exp.run(backend, seed_simulation=100).block_for_results()\n",
    "    return qst_data\n",
    "\n",
    "def post_selected_tomography(circuit, circuit_label):\n",
    "    finished_categories = []\n",
    "\n",
    "    stats_by_category = {}\n",
    "    memory = result.get_memory(circuit)\n",
    "\n",
    "    finished = 0\n",
    "    #iterate over all 6400 shots\n",
    "    for i in range(6400):\n",
    "        print(\"i = \", i)\n",
    "        #get category of current shot\n",
    "        category = memory[i]\n",
    "        #qiskit endian-ness is right to left. 0th qubit is rightmost\n",
    "        category = category[::-1]\n",
    "\n",
    "        print('Category = ', category)\n",
    "\n",
    "        if category not in finished_categories and stats_by_category.get(category) is None:\n",
    "            stats_by_category[category] = list()\n",
    "\n",
    "            reconstructed_state = tomography(result.data(0)[circuit_label][i])\n",
    "            stats_by_category[category].append(reconstructed_state)\n",
    "            print('Finished = ', finished)\n",
    "            finished += 1\n",
    "\n",
    "            #save to file\n",
    "\n",
    "            save_to_file(stats_by_category[category],  category + '_' +  str(i))\n",
    "\n",
    "    return stats_by_category"
   ]
  },
  {
   "cell_type": "code",
   "execution_count": null,
   "id": "73f5131e",
   "metadata": {},
   "outputs": [],
   "source": [
    "post_selected_tomography(circuit_0213, '0-2-1-3')\n",
    "# post_selected_tomography(circuit_0312, '0-3-1-2')\n",
    "# post_selected_tomography(circuit_0123, '0-1-2-3')"
   ]
  },
  {
   "cell_type": "markdown",
   "id": "1def310d",
   "metadata": {},
   "source": [
    "## Get pure states from density matrix by decomposition"
   ]
  },
  {
   "cell_type": "code",
   "execution_count": 19,
   "id": "9e2c919e",
   "metadata": {},
   "outputs": [],
   "source": [
    "def lu_decomp_of_dm(stats, category):\n",
    "    stats_by_measurement_category = {}\n",
    "    columns = []\n",
    "    for s in stats[category]:\n",
    "        density_matrix = s.analysis_results(\"state\").value\n",
    "\n",
    "        p,l,u = lu(np.array(density_matrix))\n",
    "\n",
    "def eigen_decomp_of_dm(stats, category):\n",
    "    stats_by_measurement_category = {}\n",
    "    columns = []\n",
    "    for s in stats[category]:\n",
    "        density_matrix = s.analysis_results(\"state\").value\n",
    "        \n",
    "        val, vec = LA.eigh(np.array(density_matrix))\n",
    "        \n",
    "        max_prob_state_index = np.argmax(val)\n",
    "        pure_state = vec[:, max_prob_state_index]\n",
    "        \n",
    "        return pure_state\n",
    "\n",
    "   \n",
    "def category_stats(stats, category):\n",
    "    stats_by_measurement_category = {}\n",
    "    columns = []\n",
    "    for s in stats[category]:\n",
    "        measurement, state = s.analysis_results(\"state\").value.measure()\n",
    "\n",
    "        measurement = measurement[::-1]\n",
    "        if stats_by_measurement_category.get(measurement) is None:\n",
    "            stats_by_measurement_category[measurement] = 1\n",
    "\n",
    "            if measurement not in columns:\n",
    "                columns.append(measurement)\n",
    "\n",
    "        stats_by_measurement_category[measurement] += 1\n",
    "\n",
    "    columns = np.sort(columns)\n",
    "    return stats_by_measurement_category"
   ]
  },
  {
   "cell_type": "markdown",
   "id": "bb2fa568",
   "metadata": {},
   "source": [
    "## Check if state reconstucted from tomography is product of Bell pairs"
   ]
  },
  {
   "cell_type": "code",
   "execution_count": 20,
   "id": "87ed32ac",
   "metadata": {},
   "outputs": [],
   "source": [
    "def trace_out_reconstructed_state(reconstructed_state):\n",
    "\n",
    "    traced_over = list(range(0, 4))\n",
    "    traced_over.remove(1)\n",
    "    traced_over.remove(2)\n",
    "\n",
    "    rho_0_3 = partial_trace(DensityMatrix(reconstructed_state), traced_over)\n",
    "    \n",
    "    traced_over = list(range(0, 4))\n",
    "    traced_over.remove(0)\n",
    "    traced_over.remove(3)\n",
    "\n",
    "    rho_1_2 = partial_trace(DensityMatrix(reconstructed_state), traced_over)\n",
    "\n",
    "    traced_over = list(range(0, 2))\n",
    "    traced_over.remove(1)\n",
    "    rho_0 = partial_trace(rho_0_3, traced_over)\n",
    "\n",
    "    traced_over = list(range(0, 2))\n",
    "    traced_over.remove(1)\n",
    "    rho_1 = partial_trace(rho_1_2, traced_over)\n",
    "    \n",
    "    print(\"rho.purity() = \", rho_0.purity().real)\n",
    "    #purity() gives the trace\n",
    "    if not math.isclose(rho_0.purity().real, 1) and not math.isclose(rho_1.purity().real, 1):\n",
    "        print(\"2 Bell pairs generated\")\n",
    "        # print(rho_0.purity())\n",
    "        # print(rho_1.purity())\n",
    "        return True"
   ]
  },
  {
   "cell_type": "code",
   "execution_count": 23,
   "id": "04a1442f",
   "metadata": {},
   "outputs": [],
   "source": [
    "def check_reconstructed_state(directory):\n",
    "    categories = []\n",
    "    for filename in os.listdir(directory):\n",
    "        #remove file extension of .pkl\n",
    "        category = filename[:-4]\n",
    "        categories.append(category)\n",
    "\n",
    "    for c in categories:\n",
    "        tomography_data = read_from_file(directory + c)\n",
    "\n",
    "        print(\"Category = \", category)\n",
    "        reconstructed_state = eigen_decomp_of_dm(tomography_data)\n",
    "        trace_out_reconstructed_state(reconstructed_state)"
   ]
  },
  {
   "cell_type": "code",
   "execution_count": 21,
   "id": "dabdd336",
   "metadata": {},
   "outputs": [],
   "source": [
    "#verify from saved data of states reconstructed by tomography\n",
    "def verify_by_tomography():\n",
    "    check_reconstructed_state(\"data/Tomography_data_0_3_1_2/\")\n",
    "    check_reconstructed_state(\"data/Tomography_data_0_1_2_3/\")\n",
    "    check_reconstructed_state(\"data/Tomography_data_0_2_1_3/\")"
   ]
  },
  {
   "cell_type": "code",
   "execution_count": null,
   "id": "9f97e78e-efcc-45b5-92a6-39fdf5b00af3",
   "metadata": {},
   "outputs": [],
   "source": [
    "verify_by_tomography()"
   ]
  }
 ],
 "metadata": {
  "kernelspec": {
   "display_name": "Python 3 (ipykernel)",
   "language": "python",
   "name": "python3"
  },
  "language_info": {
   "codemirror_mode": {
    "name": "ipython",
    "version": 3
   },
   "file_extension": ".py",
   "mimetype": "text/x-python",
   "name": "python",
   "nbconvert_exporter": "python",
   "pygments_lexer": "ipython3",
   "version": "3.8.13"
  },
  "vscode": {
   "interpreter": {
    "hash": "31f2aee4e71d21fbe5cf8b01ff0e069b9275f58929596ceb00d14d90e3e16cd6"
   }
  },
  "widgets": {
   "application/vnd.jupyter.widget-state+json": {
    "state": {
     "0d898e92c32944dab0d04872574f5a02": {
      "model_module": "@jupyter-widgets/base",
      "model_module_version": "1.2.0",
      "model_name": "LayoutModel",
      "state": {
       "margin": "0px 0px 10px 0px"
      }
     },
     "1fbb2f6f52954225a62d2a43a372b4dd": {
      "model_module": "@jupyter-widgets/controls",
      "model_module_version": "1.5.0",
      "model_name": "HTMLModel",
      "state": {
       "layout": "IPY_MODEL_0d898e92c32944dab0d04872574f5a02",
       "style": "IPY_MODEL_5fe1e6a5f163402cbc10a3b606ae58f8",
       "value": "<p style='font-family: IBM Plex Sans, Arial, Helvetica, sans-serif; font-size: 20px; font-weight: medium;'>Circuit Properties</p>"
      }
     },
     "275ee3047f4941b09721356d5833aea1": {
      "model_module": "@jupyter-widgets/base",
      "model_module_version": "1.2.0",
      "model_name": "LayoutModel",
      "state": {
       "width": "95px"
      }
     },
     "2933129f44a84dd2a579fd30013e43a3": {
      "model_module": "@jupyter-widgets/base",
      "model_module_version": "1.2.0",
      "model_name": "LayoutModel",
      "state": {}
     },
     "2b15efa2011046d294df981ed38c607b": {
      "model_module": "@jupyter-widgets/controls",
      "model_module_version": "1.5.0",
      "model_name": "DescriptionStyleModel",
      "state": {
       "description_width": ""
      }
     },
     "351bca194de041f9822b3d0b3f7d998c": {
      "model_module": "@jupyter-widgets/base",
      "model_module_version": "1.2.0",
      "model_name": "LayoutModel",
      "state": {
       "width": "70px"
      }
     },
     "42936cb033004bfb931328d7de485912": {
      "model_module": "@jupyter-widgets/base",
      "model_module_version": "1.2.0",
      "model_name": "LayoutModel",
      "state": {
       "grid_area": "right",
       "padding": "0px 0px 0px 0px",
       "width": "70px"
      }
     },
     "50ece003d4d8459f9ab3d3c56bfcfddc": {
      "model_module": "@jupyter-widgets/controls",
      "model_module_version": "1.5.0",
      "model_name": "HTMLModel",
      "state": {
       "layout": "IPY_MODEL_351bca194de041f9822b3d0b3f7d998c",
       "style": "IPY_MODEL_d1df48c0965c44a9a2f41141e34f276a",
       "value": "<h5>Queue</h5>"
      }
     },
     "553e9395ae0d4dd88fa3ec8f19ab99cc": {
      "model_module": "@jupyter-widgets/base",
      "model_module_version": "1.2.0",
      "model_name": "LayoutModel",
      "state": {
       "margin": "0px 0px 0px 37px",
       "width": "600px"
      }
     },
     "569e0d5e0e7643f79977c31fd95aee9c": {
      "model_module": "@jupyter-widgets/controls",
      "model_module_version": "1.5.0",
      "model_name": "DescriptionStyleModel",
      "state": {
       "description_width": ""
      }
     },
     "5fe1e6a5f163402cbc10a3b606ae58f8": {
      "model_module": "@jupyter-widgets/controls",
      "model_module_version": "1.5.0",
      "model_name": "DescriptionStyleModel",
      "state": {
       "description_width": ""
      }
     },
     "79d0c8323cec4509b4ab0e9beb2215fb": {
      "model_module": "@jupyter-widgets/controls",
      "model_module_version": "1.5.0",
      "model_name": "HTMLModel",
      "state": {
       "layout": "IPY_MODEL_2933129f44a84dd2a579fd30013e43a3",
       "style": "IPY_MODEL_2b15efa2011046d294df981ed38c607b",
       "value": "<h5>Message</h5>"
      }
     },
     "842b5a22945e47f9aedc68cd1542c784": {
      "model_module": "@jupyter-widgets/controls",
      "model_module_version": "1.5.0",
      "model_name": "ButtonStyleModel",
      "state": {}
     },
     "938a6c3c69da43e399dfeaf7ed06381b": {
      "model_module": "@jupyter-widgets/controls",
      "model_module_version": "1.5.0",
      "model_name": "DescriptionStyleModel",
      "state": {
       "description_width": ""
      }
     },
     "9ce49f3071dc4441a27c544e615642f2": {
      "model_module": "@jupyter-widgets/controls",
      "model_module_version": "1.5.0",
      "model_name": "DescriptionStyleModel",
      "state": {
       "description_width": ""
      }
     },
     "a88776a0778842a98d45a5cec9194ae8": {
      "model_module": "@jupyter-widgets/controls",
      "model_module_version": "1.5.0",
      "model_name": "HBoxModel",
      "state": {
       "children": [
        "IPY_MODEL_afb7621f550f408593716a479564f400",
        "IPY_MODEL_a9fa91e1f64f4100a6a4b8de6650665f",
        "IPY_MODEL_e1e938121e5b48399b58b5acec33ad10",
        "IPY_MODEL_50ece003d4d8459f9ab3d3c56bfcfddc",
        "IPY_MODEL_79d0c8323cec4509b4ab0e9beb2215fb"
       ],
       "layout": "IPY_MODEL_553e9395ae0d4dd88fa3ec8f19ab99cc"
      }
     },
     "a9fa91e1f64f4100a6a4b8de6650665f": {
      "model_module": "@jupyter-widgets/controls",
      "model_module_version": "1.5.0",
      "model_name": "HTMLModel",
      "state": {
       "layout": "IPY_MODEL_b30e1d83f70e492d934c0481cddb70fa",
       "style": "IPY_MODEL_9ce49f3071dc4441a27c544e615642f2",
       "value": "<h5>Backend</h5>"
      }
     },
     "afb7621f550f408593716a479564f400": {
      "model_module": "@jupyter-widgets/controls",
      "model_module_version": "1.5.0",
      "model_name": "HTMLModel",
      "state": {
       "layout": "IPY_MODEL_ffed28fc3d3248f3bd9735f6e57bdecc",
       "style": "IPY_MODEL_938a6c3c69da43e399dfeaf7ed06381b",
       "value": "<h5>Job ID</h5>"
      }
     },
     "b30e1d83f70e492d934c0481cddb70fa": {
      "model_module": "@jupyter-widgets/base",
      "model_module_version": "1.2.0",
      "model_name": "LayoutModel",
      "state": {
       "width": "145px"
      }
     },
     "d1df48c0965c44a9a2f41141e34f276a": {
      "model_module": "@jupyter-widgets/controls",
      "model_module_version": "1.5.0",
      "model_name": "DescriptionStyleModel",
      "state": {
       "description_width": ""
      }
     },
     "e1e938121e5b48399b58b5acec33ad10": {
      "model_module": "@jupyter-widgets/controls",
      "model_module_version": "1.5.0",
      "model_name": "HTMLModel",
      "state": {
       "layout": "IPY_MODEL_275ee3047f4941b09721356d5833aea1",
       "style": "IPY_MODEL_569e0d5e0e7643f79977c31fd95aee9c",
       "value": "<h5>Status</h5>"
      }
     },
     "e832209d7c4c470ba4e4f37ec1724c82": {
      "model_module": "@jupyter-widgets/controls",
      "model_module_version": "1.5.0",
      "model_name": "ButtonModel",
      "state": {
       "button_style": "primary",
       "description": "Clear",
       "layout": "IPY_MODEL_42936cb033004bfb931328d7de485912",
       "style": "IPY_MODEL_842b5a22945e47f9aedc68cd1542c784"
      }
     },
     "ee1fa998bea841af898f771fe20ed599": {
      "model_module": "@jupyter-widgets/base",
      "model_module_version": "1.2.0",
      "model_name": "LayoutModel",
      "state": {
       "grid_template_areas": "\n                                       \". . . . right \"\n                                        ",
       "grid_template_columns": "20% 20% 20% 20% 20%",
       "width": "100%"
      }
     },
     "feb1d0ee472b45d2a3a9146361ac5465": {
      "model_module": "@jupyter-widgets/controls",
      "model_module_version": "1.5.0",
      "model_name": "GridBoxModel",
      "state": {
       "children": [
        "IPY_MODEL_e832209d7c4c470ba4e4f37ec1724c82"
       ],
       "layout": "IPY_MODEL_ee1fa998bea841af898f771fe20ed599"
      }
     },
     "ffed28fc3d3248f3bd9735f6e57bdecc": {
      "model_module": "@jupyter-widgets/base",
      "model_module_version": "1.2.0",
      "model_name": "LayoutModel",
      "state": {
       "width": "190px"
      }
     }
    },
    "version_major": 2,
    "version_minor": 0
   }
  }
 },
 "nbformat": 4,
 "nbformat_minor": 5
}
